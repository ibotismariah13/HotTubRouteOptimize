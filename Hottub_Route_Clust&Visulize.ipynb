{
 "cells": [
  {
   "cell_type": "markdown",
   "id": "92669f10",
   "metadata": {},
   "source": [
    "# Data Clust and visualize\n",
    "The goal of this notebook is to take the CSV of addresses where we clean hot tubs, the distance matrixes and geo codes from last notebook, in order to cluster and visualize current and better routes we could have for cleaning hot tubs. \n",
    "\n",
    "### Steps\n",
    "1. import data \n",
    "2. figure out summery stats (work time v drive time, cost per tub per route, time per route, ect)for current routes, and visulize\n",
    "3. run kmeans/decision trees on the driving time/distance matrix to find good groups of tubs \n",
    "4. within each group sort to find the most efficent order\n",
    "5. repeate step 2 but for new routes\n",
    "6. write up and compare"
   ]
  },
  {
   "cell_type": "markdown",
   "id": "a5eb7539",
   "metadata": {},
   "source": [
    "## Step 1 Import "
   ]
  },
  {
   "cell_type": "code",
   "execution_count": 1,
   "id": "b92f90e6",
   "metadata": {},
   "outputs": [],
   "source": [
    "#import libriaries and packages"
   ]
  },
  {
   "cell_type": "code",
   "execution_count": 2,
   "id": "57982746",
   "metadata": {},
   "outputs": [],
   "source": [
    "# import files"
   ]
  }
 ],
 "metadata": {
  "kernelspec": {
   "display_name": "geo_env",
   "language": "python",
   "name": "geo_env"
  },
  "language_info": {
   "codemirror_mode": {
    "name": "ipython",
    "version": 3
   },
   "file_extension": ".py",
   "mimetype": "text/x-python",
   "name": "python",
   "nbconvert_exporter": "python",
   "pygments_lexer": "ipython3",
   "version": "3.10.4"
  }
 },
 "nbformat": 4,
 "nbformat_minor": 5
}
