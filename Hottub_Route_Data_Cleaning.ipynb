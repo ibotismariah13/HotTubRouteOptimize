{
 "cells": [
  {
   "cell_type": "markdown",
   "id": "93df0c9a",
   "metadata": {},
   "source": [
    "# Data cleaning plans\n",
    "The goal of this notebook is to take the CSV of addresses where we clean hot tubs, geo code those adresses and create a matrix which with the distances between all the hot tubs to begin working on clustering\n",
    "### Steps\n",
    "1. import data \n",
    "2. use geopy and geopandas to locate each point (verrifying cords along the way) and add the geo code to the data and re write to csv\n",
    "3. Usevthose geocodes and the open street map to create a distance matrix to use to plan routes. Save this file to CSV\n"
   ]
  },
  {
   "cell_type": "markdown",
   "id": "5db36f96",
   "metadata": {},
   "source": [
    "## Step 1 importing the data "
   ]
  },
  {
   "cell_type": "code",
   "execution_count": 1,
   "id": "e15f5a84",
   "metadata": {},
   "outputs": [],
   "source": [
    "# import neeed librarys"
   ]
  },
  {
   "cell_type": "code",
   "execution_count": 2,
   "id": "16e9070b",
   "metadata": {},
   "outputs": [],
   "source": [
    "# import data from Address CSV"
   ]
  },
  {
   "cell_type": "markdown",
   "id": "28b68fb4",
   "metadata": {},
   "source": [
    "## Step 2: Get geocodes for Each tub"
   ]
  },
  {
   "cell_type": "code",
   "execution_count": 3,
   "id": "aa0716ac",
   "metadata": {},
   "outputs": [],
   "source": [
    "# Call the API to get Geocodes for all"
   ]
  },
  {
   "cell_type": "code",
   "execution_count": 4,
   "id": "226f9967",
   "metadata": {},
   "outputs": [],
   "source": [
    "# Verrify the geocodes by sheet"
   ]
  },
  {
   "cell_type": "code",
   "execution_count": 5,
   "id": "5462412c",
   "metadata": {},
   "outputs": [],
   "source": [
    "# Add routes to the CSV"
   ]
  },
  {
   "cell_type": "markdown",
   "id": "2c501c06",
   "metadata": {},
   "source": [
    "## Step 3: Distance matrix"
   ]
  },
  {
   "cell_type": "code",
   "execution_count": 6,
   "id": "ad349c3b",
   "metadata": {},
   "outputs": [],
   "source": [
    "## function for getting the distance between 2 points from the api"
   ]
  },
  {
   "cell_type": "code",
   "execution_count": 7,
   "id": "33444a26",
   "metadata": {},
   "outputs": [],
   "source": [
    "## Code to get routes from the geo codes"
   ]
  },
  {
   "cell_type": "code",
   "execution_count": 8,
   "id": "76e80f4d",
   "metadata": {},
   "outputs": [],
   "source": [
    "## verifying the routes "
   ]
  },
  {
   "cell_type": "code",
   "execution_count": 9,
   "id": "e4e8c2b4",
   "metadata": {},
   "outputs": [],
   "source": [
    "#write the routes to a sheet"
   ]
  }
 ],
 "metadata": {
  "kernelspec": {
   "display_name": "geo_env",
   "language": "python",
   "name": "geo_env"
  },
  "language_info": {
   "codemirror_mode": {
    "name": "ipython",
    "version": 3
   },
   "file_extension": ".py",
   "mimetype": "text/x-python",
   "name": "python",
   "nbconvert_exporter": "python",
   "pygments_lexer": "ipython3",
   "version": "3.10.4"
  }
 },
 "nbformat": 4,
 "nbformat_minor": 5
}
